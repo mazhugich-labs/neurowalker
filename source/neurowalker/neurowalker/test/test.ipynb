{
 "cells": [
  {
   "cell_type": "code",
   "execution_count": 13,
   "id": "bcbcc771",
   "metadata": {},
   "outputs": [],
   "source": [
    "import math\n",
    "\n",
    "import torch"
   ]
  },
  {
   "cell_type": "code",
   "execution_count": 5,
   "id": "3b93b855",
   "metadata": {},
   "outputs": [],
   "source": [
    "__GAIT_CFG = {\n",
    "    \"tripod\": {\n",
    "        \"default_alpha\": ((0, math.pi, math.pi, 0, 0, math.pi)),\n",
    "        \"groups\": ((0, 3, 4), (1, 2, 5)),\n",
    "    },\n",
    "    \"tetrapod\": {\n",
    "        \"default_alpha\": ((0, 2 * math.pi / 3, 2 * math.pi / 3, 4 * math.pi / 3, 4 * math.pi / 3, 0)),\n",
    "        \"groups\": ((0, 5), (1, 2), (3, 4)),\n",
    "    },\n",
    "    \"wave\": {\n",
    "        \"default_alpha\": ((0, math.pi, math.pi / 3, 4 * math.pi / 3, 2 * math.pi / 3, 5 * math.pi / 3)),\n",
    "        \"groups\": ((0,), (2,), (4,), (1,), (3,), (5,)),\n",
    "    },\n",
    "}\n",
    "\n",
    "def __get_default_alpha(gaits: str, num_envs: int, device: str):\n",
    "    __default_alpha_list = []\n",
    "    try:\n",
    "        for gait in gaits:\n",
    "            __default_alpha_list.append(__GAIT_CFG[gait][\"default_alpha\"])\n",
    "    except KeyError as gait_name:\n",
    "        raise KeyError(f\"Invalid gait: {gait_name}\")\n",
    "\n",
    "    __idxs = torch.randint(len(__default_alpha_list), (num_envs,))\n",
    "    return torch.tensor(__default_alpha_list, device=device)[__idxs], __idxs\n",
    "\n",
    "\n",
    "def __get_psi(gaits: str, idxs: torch.Tensor, device: str) -> torch.Tensor:\n",
    "    __psi_list = []\n",
    "    try:\n",
    "        for gait in gaits:\n",
    "            __default_alpha = torch.tensor(__GAIT_CFG[gait][\"default_alpha\"], device=device).unsqueeze(0)\n",
    "            __psi_list.append((__default_alpha.T - __default_alpha).tolist())\n",
    "    except KeyError as gait_name:\n",
    "        raise KeyError(f\"Invalid gait: {gait_name}\")\n",
    "\n",
    "    return torch.tensor(__psi_list, device=device)[idxs]\n",
    "\n",
    "\n",
    "def __get_m(\n",
    "    types: str,\n",
    "    self_weight: float,\n",
    "    in_group_weight: float,\n",
    "    of_group_weight: float,\n",
    "    num_envs: int,\n",
    "    device: str,\n",
    "):\n",
    "    def __none_coupling():\n",
    "        return torch.zeros((6, 6)).tolist()\n",
    "\n",
    "    def __sparse_coupling(gait: str):\n",
    "        __m = torch.zeros((6, 6)).tolist()\n",
    "        try:\n",
    "            groups = __GAIT_CFG[gait][\"groups\"]\n",
    "        except KeyError as e:\n",
    "            raise KeyError(f\"Invalid gait: {e}\")\n",
    "        for group_idx in range(len(groups)):\n",
    "            group = groups[group_idx]\n",
    "            for i in group:\n",
    "                for j in range(6):\n",
    "                    if group[j] in group:\n",
    "                        if i == j:\n",
    "                            __m[i][j] = self_weight\n",
    "                        else:\n",
    "                            __m[i][j] = in_group_weight\n",
    "                    else:\n",
    "                        __m[i][j] = of_group_weight\n",
    "\n",
    "        return __m\n",
    "\n",
    "    def __ring_coupling():\n",
    "        return (\n",
    "            (\n",
    "                self_weight,\n",
    "                in_group_weight,\n",
    "                in_group_weight,\n",
    "                of_group_weight,\n",
    "                of_group_weight,\n",
    "                of_group_weight,\n",
    "            ),\n",
    "            (\n",
    "                in_group_weight,\n",
    "                self_weight,\n",
    "                of_group_weight,\n",
    "                in_group_weight,\n",
    "                of_group_weight,\n",
    "                of_group_weight,\n",
    "            ),\n",
    "            (\n",
    "                in_group_weight,\n",
    "                of_group_weight,\n",
    "                self_weight,\n",
    "                of_group_weight,\n",
    "                in_group_weight,\n",
    "                of_group_weight,\n",
    "            ),\n",
    "            (\n",
    "                of_group_weight,\n",
    "                in_group_weight,\n",
    "                of_group_weight,\n",
    "                self_weight,\n",
    "                of_group_weight,\n",
    "                in_group_weight,\n",
    "            ),\n",
    "            (\n",
    "                of_group_weight,\n",
    "                of_group_weight,\n",
    "                in_group_weight,\n",
    "                of_group_weight,\n",
    "                self_weight,\n",
    "                in_group_weight,\n",
    "            ),\n",
    "            (\n",
    "                of_group_weight,\n",
    "                of_group_weight,\n",
    "                of_group_weight,\n",
    "                in_group_weight,\n",
    "                in_group_weight,\n",
    "                self_weight,\n",
    "            ),\n",
    "        )\n",
    "\n",
    "    def __all_to_all_coupling():\n",
    "        return (torch.ones((6, 6)) * in_group_weight - torch.eye(6) * (in_group_weight - self_weight)).tolist()\n",
    "\n",
    "    __m_list = []\n",
    "    for type in types:\n",
    "        if type == \"none\":\n",
    "            __m_list.append(__none_coupling())\n",
    "        elif type == \"sparse\":\n",
    "            __m_list.append(__sparse_coupling(type))\n",
    "        elif type == \"ring\":\n",
    "            __m_list.append(__ring_coupling())\n",
    "        elif type == \"all-to-all\":\n",
    "            __m_list.append(__all_to_all_coupling())\n",
    "        else:\n",
    "            raise ValueError(f\"Invalid coupling type: {type}\")\n",
    "\n",
    "    return torch.tensor(__m_list, device=device)[torch.randint(len(__m_list), (num_envs,), device=device)]"
   ]
  },
  {
   "cell_type": "code",
   "execution_count": 6,
   "id": "464c1d2f",
   "metadata": {},
   "outputs": [
    {
     "name": "stdout",
     "output_type": "stream",
     "text": [
      "tensor([[0.0000, 3.1416, 3.1416, 0.0000, 0.0000, 3.1416],\n",
      "        [0.0000, 3.1416, 3.1416, 0.0000, 0.0000, 3.1416],\n",
      "        [0.0000, 2.0944, 2.0944, 4.1888, 4.1888, 0.0000]], device='cuda:0')\n",
      "tensor([[[ 0.0000, -3.1416, -3.1416,  0.0000,  0.0000, -3.1416],\n",
      "         [ 3.1416,  0.0000,  0.0000,  3.1416,  3.1416,  0.0000],\n",
      "         [ 3.1416,  0.0000,  0.0000,  3.1416,  3.1416,  0.0000],\n",
      "         [ 0.0000, -3.1416, -3.1416,  0.0000,  0.0000, -3.1416],\n",
      "         [ 0.0000, -3.1416, -3.1416,  0.0000,  0.0000, -3.1416],\n",
      "         [ 3.1416,  0.0000,  0.0000,  3.1416,  3.1416,  0.0000]],\n",
      "\n",
      "        [[ 0.0000, -3.1416, -3.1416,  0.0000,  0.0000, -3.1416],\n",
      "         [ 3.1416,  0.0000,  0.0000,  3.1416,  3.1416,  0.0000],\n",
      "         [ 3.1416,  0.0000,  0.0000,  3.1416,  3.1416,  0.0000],\n",
      "         [ 0.0000, -3.1416, -3.1416,  0.0000,  0.0000, -3.1416],\n",
      "         [ 0.0000, -3.1416, -3.1416,  0.0000,  0.0000, -3.1416],\n",
      "         [ 3.1416,  0.0000,  0.0000,  3.1416,  3.1416,  0.0000]],\n",
      "\n",
      "        [[ 0.0000, -2.0944, -2.0944, -4.1888, -4.1888,  0.0000],\n",
      "         [ 2.0944,  0.0000,  0.0000, -2.0944, -2.0944,  2.0944],\n",
      "         [ 2.0944,  0.0000,  0.0000, -2.0944, -2.0944,  2.0944],\n",
      "         [ 4.1888,  2.0944,  2.0944,  0.0000,  0.0000,  4.1888],\n",
      "         [ 4.1888,  2.0944,  2.0944,  0.0000,  0.0000,  4.1888],\n",
      "         [ 0.0000, -2.0944, -2.0944, -4.1888, -4.1888,  0.0000]]],\n",
      "       device='cuda:0')\n"
     ]
    }
   ],
   "source": [
    "gaits = (\"tripod\", \"tetrapod\")\n",
    "\n",
    "default_alpha, idxs = __get_default_alpha(gaits, 3, \"cuda\")\n",
    "print(default_alpha)\n",
    "psi = __get_psi(gaits, idxs, \"cuda\")\n",
    "print(psi)"
   ]
  },
  {
   "cell_type": "code",
   "execution_count": 2,
   "id": "7587a8f2",
   "metadata": {},
   "outputs": [],
   "source": [
    "import torch\n",
    "import math\n",
    "\n",
    "def phase_to_weight_matrix(\n",
    "    phase_offsets: torch.Tensor,   # shape: [num_envs, num_legs, num_legs]\n",
    "    self_weight: float,\n",
    "    in_group_weight: float,\n",
    "    of_group_weight: float,\n",
    "    phase_threshold: float = 0.1   # how close to zero modulo 2pi counts as \"in group\"\n",
    ") -> torch.Tensor:\n",
    "    \"\"\"\n",
    "    Convert phase offset matrix to coupling weight matrix.\n",
    "\n",
    "    Args:\n",
    "        phase_offsets: tensor of shape [num_envs, num_legs, num_legs] with phase differences in radians.\n",
    "        self_weight: weight for diagonal elements (self-coupling).\n",
    "        in_group_weight: weight for legs with phase difference close to 0 mod 2pi.\n",
    "        of_group_weight: weight for legs with phase difference NOT close to 0 mod 2pi.\n",
    "        phase_threshold: max absolute phase difference (mod 2pi) to count as \"in group\".\n",
    "\n",
    "    Returns:\n",
    "        weights: tensor same shape as phase_offsets with coupling weights.\n",
    "    \"\"\"\n",
    "    num_envs, num_legs, _ = phase_offsets.shape\n",
    "\n",
    "    # Normalize phase differences mod 2pi to [0, 2pi)\n",
    "    two_pi = 2 * math.pi\n",
    "    phase_mod = torch.fmod(phase_offsets, two_pi)\n",
    "    # Shift negatives into [0, 2pi)\n",
    "    phase_mod = torch.where(phase_mod < 0, phase_mod + two_pi, phase_mod)\n",
    "\n",
    "    # Distance to 0 mod 2pi is min(phase_mod, 2pi - phase_mod)\n",
    "    dist_to_zero = torch.minimum(phase_mod, two_pi - phase_mod)\n",
    "\n",
    "    # Create weight tensor filled with of_group_weight by default\n",
    "    weights = torch.full_like(phase_offsets, of_group_weight)\n",
    "\n",
    "    # Self connections (diagonal)\n",
    "    eye_mask = torch.eye(num_legs, dtype=torch.bool, device=phase_offsets.device).unsqueeze(0).expand(num_envs, -1, -1)\n",
    "    weights[eye_mask] = self_weight\n",
    "\n",
    "    # In-group connections: phase difference close to zero modulo 2pi, excluding diagonal\n",
    "    in_group_mask = (dist_to_zero <= phase_threshold) & (~eye_mask)\n",
    "    weights[in_group_mask] = in_group_weight\n",
    "\n",
    "    return weights\n"
   ]
  },
  {
   "cell_type": "code",
   "execution_count": 53,
   "id": "6dd239cf",
   "metadata": {},
   "outputs": [
    {
     "name": "stdout",
     "output_type": "stream",
     "text": [
      "tensor([[[ 0.0000, -0.5000, -0.5000,  0.5000,  0.5000, -0.5000],\n",
      "         [-0.5000,  0.0000,  0.5000, -0.5000, -0.5000,  0.5000],\n",
      "         [-0.5000,  0.5000,  0.0000, -0.5000, -0.5000,  0.5000],\n",
      "         [ 0.5000, -0.5000, -0.5000,  0.0000,  0.5000, -0.5000],\n",
      "         [ 0.5000, -0.5000, -0.5000,  0.5000,  0.0000, -0.5000],\n",
      "         [-0.5000,  0.5000,  0.5000, -0.5000, -0.5000,  0.0000]],\n",
      "\n",
      "        [[ 0.0000, -0.5000, -0.5000,  0.5000,  0.5000, -0.5000],\n",
      "         [-0.5000,  0.0000,  0.5000, -0.5000, -0.5000,  0.5000],\n",
      "         [-0.5000,  0.5000,  0.0000, -0.5000, -0.5000,  0.5000],\n",
      "         [ 0.5000, -0.5000, -0.5000,  0.0000,  0.5000, -0.5000],\n",
      "         [ 0.5000, -0.5000, -0.5000,  0.5000,  0.0000, -0.5000],\n",
      "         [-0.5000,  0.5000,  0.5000, -0.5000, -0.5000,  0.0000]],\n",
      "\n",
      "        [[ 0.0000, -0.5000, -0.5000, -0.5000, -0.5000,  0.5000],\n",
      "         [-0.5000,  0.0000,  0.5000, -0.5000, -0.5000, -0.5000],\n",
      "         [-0.5000,  0.5000,  0.0000, -0.5000, -0.5000, -0.5000],\n",
      "         [-0.5000, -0.5000, -0.5000,  0.0000,  0.5000, -0.5000],\n",
      "         [-0.5000, -0.5000, -0.5000,  0.5000,  0.0000, -0.5000],\n",
      "         [ 0.5000, -0.5000, -0.5000, -0.5000, -0.5000,  0.0000]]],\n",
      "       device='cuda:0')\n"
     ]
    }
   ],
   "source": [
    "phase_offsets = torch.tensor([[\n",
    "    [0.0, -3.1416, -3.1416, 0.0, 0.0, -3.1416],\n",
    "    [3.1416, 0.0, 0.0, 3.1416, 3.1416, 0.0],\n",
    "    [3.1416, 0.0, 0.0, 3.1416, 3.1416, 0.0],\n",
    "    [0.0, -3.1416, -3.1416, 0.0, 0.0, -3.1416],\n",
    "    [0.0, -3.1416, -3.1416, 0.0, 0.0, -3.1416],\n",
    "    [3.1416, 0.0, 0.0, 3.1416, 3.1416, 0.0],\n",
    "]])\n",
    "\n",
    "weights = phase_to_weight_matrix(\n",
    "    phase_offsets=psi,\n",
    "    self_weight=0.0,\n",
    "    in_group_weight=0.5,\n",
    "    of_group_weight=-0.5,\n",
    "    phase_threshold=0.5\n",
    ")\n",
    "\n",
    "print(weights)\n"
   ]
  },
  {
   "cell_type": "code",
   "execution_count": 38,
   "id": "6e0a6afa",
   "metadata": {},
   "outputs": [
    {
     "name": "stdout",
     "output_type": "stream",
     "text": [
      "tensor([[ 1.5354,  0.1325,  0.7060,  1.3514, -1.7453, -0.2223],\n",
      "        [-1.4312,  0.1611, -1.0931, -0.1287,  0.9859, -0.8875],\n",
      "        [ 0.5958,  0.7297,  0.3742,  1.5163, -0.4440,  1.5191],\n",
      "        [ 0.4367,  0.0983,  1.3179,  1.2835, -0.1600, -2.1167],\n",
      "        [-0.0321,  1.3956, -0.5046, -0.7822, -1.7249,  0.6443],\n",
      "        [ 0.1064,  2.2260, -0.4442, -0.8040,  0.3010,  0.3476],\n",
      "        [-0.1815, -0.5898, -1.7871, -0.7962,  1.3015, -0.2152],\n",
      "        [-0.4850, -0.5750,  0.5492, -0.3482,  1.1132,  1.9977],\n",
      "        [ 0.0218,  1.1390, -0.7775, -0.8866,  0.2568, -0.0314],\n",
      "        [ 1.1084, -0.1673, -1.2611, -0.0281, -0.1894,  0.6685]])\n",
      "tensor([1, 0, 0, 0, 1, 1])\n",
      "tensor([[ 2.5354,  0.1325,  0.7060,  1.3514, -0.7453,  0.7777],\n",
      "        [-0.4312,  0.1611, -1.0931, -0.1287,  1.9859,  0.1125],\n",
      "        [ 1.5958,  0.7297,  0.3742,  1.5163,  0.5560,  2.5191],\n",
      "        [ 1.4367,  0.0983,  1.3179,  1.2835,  0.8400, -1.1167],\n",
      "        [ 0.9679,  1.3956, -0.5046, -0.7822, -0.7249,  1.6443],\n",
      "        [ 1.1064,  2.2260, -0.4442, -0.8040,  1.3010,  1.3476],\n",
      "        [ 0.8185, -0.5898, -1.7871, -0.7962,  2.3015,  0.7848],\n",
      "        [ 0.5150, -0.5750,  0.5492, -0.3482,  2.1132,  2.9977],\n",
      "        [ 1.0218,  1.1390, -0.7775, -0.8866,  1.2568,  0.9686],\n",
      "        [ 2.1084, -0.1673, -1.2611, -0.0281,  0.8106,  1.6685]])\n"
     ]
    }
   ],
   "source": [
    "jitter = torch.randn(10, 6)\n",
    "print(jitter)\n",
    "alpha = torch.randint(0, 2, (6,))\n",
    "print(alpha)\n",
    "res = alpha + jitter\n",
    "print(res)"
   ]
  },
  {
   "cell_type": "code",
   "execution_count": 47,
   "id": "814cceee",
   "metadata": {},
   "outputs": [
    {
     "data": {
      "text/plain": [
       "tensor([[[ 0.0000, -3.1416, -3.1416,  0.0000,  0.0000, -3.1416],\n",
       "         [ 3.1416,  0.0000,  0.0000,  3.1416,  3.1416,  0.0000],\n",
       "         [ 3.1416,  0.0000,  0.0000,  3.1416,  3.1416,  0.0000],\n",
       "         [ 0.0000, -3.1416, -3.1416,  0.0000,  0.0000, -3.1416],\n",
       "         [ 0.0000, -3.1416, -3.1416,  0.0000,  0.0000, -3.1416],\n",
       "         [ 3.1416,  0.0000,  0.0000,  3.1416,  3.1416,  0.0000]],\n",
       "\n",
       "        [[ 0.0000, -3.1416, -3.1416,  0.0000,  0.0000, -3.1416],\n",
       "         [ 3.1416,  0.0000,  0.0000,  3.1416,  3.1416,  0.0000],\n",
       "         [ 3.1416,  0.0000,  0.0000,  3.1416,  3.1416,  0.0000],\n",
       "         [ 0.0000, -3.1416, -3.1416,  0.0000,  0.0000, -3.1416],\n",
       "         [ 0.0000, -3.1416, -3.1416,  0.0000,  0.0000, -3.1416],\n",
       "         [ 3.1416,  0.0000,  0.0000,  3.1416,  3.1416,  0.0000]],\n",
       "\n",
       "        [[ 0.0000, -3.1416, -3.1416,  0.0000,  0.0000, -3.1416],\n",
       "         [ 3.1416,  0.0000,  0.0000,  3.1416,  3.1416,  0.0000],\n",
       "         [ 3.1416,  0.0000,  0.0000,  3.1416,  3.1416,  0.0000],\n",
       "         [ 0.0000, -3.1416, -3.1416,  0.0000,  0.0000, -3.1416],\n",
       "         [ 0.0000, -3.1416, -3.1416,  0.0000,  0.0000, -3.1416],\n",
       "         [ 3.1416,  0.0000,  0.0000,  3.1416,  3.1416,  0.0000]]],\n",
       "       device='cuda:0')"
      ]
     },
     "execution_count": 47,
     "metadata": {},
     "output_type": "execute_result"
    }
   ],
   "source": [
    "arr = psi[0]\n",
    "arr.unsqueeze(0).expand(3, -1, -1)"
   ]
  },
  {
   "cell_type": "code",
   "execution_count": 59,
   "id": "5fbc2be0",
   "metadata": {},
   "outputs": [
    {
     "data": {
      "text/plain": [
       "tensor([[ 0.0000, -3.1416, -3.1416,  0.0000,  0.0000, -3.1416],\n",
       "        [ 3.1416,  0.0000,  0.0000,  3.1416,  3.1416,  0.0000],\n",
       "        [ 3.1416,  0.0000,  0.0000,  3.1416,  3.1416,  0.0000],\n",
       "        [ 0.0000, -3.1416, -3.1416,  0.0000,  0.0000, -3.1416],\n",
       "        [ 0.0000, -3.1416, -3.1416,  0.0000,  0.0000, -3.1416],\n",
       "        [ 3.1416,  0.0000,  0.0000,  3.1416,  3.1416,  0.0000]])"
      ]
     },
     "execution_count": 59,
     "metadata": {},
     "output_type": "execute_result"
    }
   ],
   "source": [
    "phase_offsets[0]"
   ]
  },
  {
   "cell_type": "code",
   "execution_count": 64,
   "id": "50790db3",
   "metadata": {},
   "outputs": [
    {
     "name": "stdout",
     "output_type": "stream",
     "text": [
      "tensor([[ 0.0000,  0.0000,  0.0000, -1.7284,  1.7502,  0.0000],\n",
      "        [ 0.3799, -2.4861,  1.4293,  1.6425, -1.6664, -3.3912],\n",
      "        [-0.4757, -0.3705,  1.3467, -2.2338,  0.0838,  5.0986],\n",
      "        [ 0.7406, -1.3262,  2.0067,  1.3693,  0.0000, -4.5630],\n",
      "        [-0.9281, -1.2776,  0.8987,  2.3723, -0.9558,  3.8508],\n",
      "        [ 0.0000,  0.7354,  1.7122, -1.6038, -1.8693, -1.7703],\n",
      "        [ 0.0000,  0.0000,  1.9513,  1.6089,  0.0000,  1.9875],\n",
      "        [ 1.4495, -0.5741, -0.1828, -0.3780, -0.8332, -1.3100],\n",
      "        [ 0.1899, -0.2535, -0.7581, -0.2488, -2.6352, -1.9093],\n",
      "        [ 0.0000,  0.0000, -1.1041, -0.0271, -1.2467, -1.9361]])\n"
     ]
    }
   ],
   "source": [
    "r = torch.randint(0, 3, (10, 6))\n",
    "alpha = torch.randint(-2, 2, (10, 6))\n",
    "m = torch.randint(-1, 1, (6, 6))\n",
    "psi = torch.randn((6, 6)) * torch.pi\n",
    "\n",
    "num_envs, net_size = r.shape\n",
    "\n",
    "m_exp = m.unsqueeze(0).expand(num_envs, -1, -1)     # (num_envs, net_size, net_size)\n",
    "psi_exp = psi.unsqueeze(0).expand(num_envs, -1, -1) # (num_envs, net_size, net_size)\n",
    "\n",
    "r_j = r.unsqueeze(1)    # (num_envs, 1, net_size)\n",
    "alpha_i = alpha.unsqueeze(2)  # (num_envs, net_size, 1)\n",
    "alpha_j = alpha.unsqueeze(1)  # (num_envs, 1, net_size)\n",
    "\n",
    "diff = alpha_j - alpha_i      # (num_envs, net_size, net_size)\n",
    "sin_term = torch.sin(diff - psi_exp)  # (num_envs, net_size, net_size)\n",
    "\n",
    "result = (r_j * m_exp * sin_term).sum(dim=2)  # (num_envs, net_size)\n",
    "\n",
    "\n",
    "print(result)\n"
   ]
  },
  {
   "cell_type": "code",
   "execution_count": 71,
   "id": "2f2b5e41",
   "metadata": {},
   "outputs": [
    {
     "name": "stdout",
     "output_type": "stream",
     "text": [
      "tensor([[2, 2, 1, 1, 0, 1],\n",
      "        [2, 0, 2, 1, 2, 0],\n",
      "        [2, 0, 0, 1, 2, 0],\n",
      "        [0, 2, 1, 1, 1, 1],\n",
      "        [2, 2, 1, 1, 0, 1],\n",
      "        [0, 2, 2, 2, 0, 0]])\n",
      "tensor([[0, 0, 1, 0, 0, 0],\n",
      "        [0, 0, 0, 0, 0, 0],\n",
      "        [0, 0, 1, 0, 0, 0],\n",
      "        [0, 0, 1, 0, 1, 0],\n",
      "        [0, 0, 1, 0, 1, 0],\n",
      "        [0, 0, 1, 1, 1, 1]])\n",
      "tensor([[0, 0, 1, 1, 0, 1],\n",
      "        [0, 0, 0, 1, 0, 0],\n",
      "        [0, 0, 0, 1, 0, 0],\n",
      "        [0, 0, 1, 1, 1, 1],\n",
      "        [0, 0, 1, 1, 0, 1],\n",
      "        [0, 0, 0, 0, 0, 0]])\n"
     ]
    }
   ],
   "source": [
    "arr = torch.randint(0, 3, (6, 6))\n",
    "print(arr)\n",
    "res1 = arr.remainder(2)\n",
    "print(res)\n",
    "res2 = res1.remainder(2)\n",
    "print(res2)"
   ]
  },
  {
   "cell_type": "code",
   "execution_count": 72,
   "id": "b5336324",
   "metadata": {},
   "outputs": [
    {
     "name": "stdout",
     "output_type": "stream",
     "text": [
      "tensor([[0, 0, 1, 1, 0, 1],\n",
      "        [0, 0, 0, 1, 0, 0],\n",
      "        [0, 0, 0, 1, 0, 0],\n",
      "        [0, 0, 1, 1, 1, 1],\n",
      "        [0, 0, 1, 1, 0, 1],\n",
      "        [0, 0, 0, 0, 0, 0]])\n",
      "tensor([[1, 1, 2, 2, 1, 2],\n",
      "        [1, 1, 1, 2, 1, 1],\n",
      "        [1, 1, 1, 2, 1, 1],\n",
      "        [1, 1, 2, 2, 2, 2],\n",
      "        [1, 1, 2, 2, 1, 2],\n",
      "        [1, 1, 1, 1, 1, 1]])\n"
     ]
    }
   ],
   "source": [
    "res1 = res2\n",
    "res2 = res2 + 1\n",
    "print(res1)\n",
    "print(res2)"
   ]
  },
  {
   "cell_type": "code",
   "execution_count": 22,
   "id": "36d89df7",
   "metadata": {},
   "outputs": [
    {
     "data": {
      "text/plain": [
       "tensor([0.1156, 0.1537, 0.3683, 0.5784, 0.7465, 0.2966, 0.1635, 0.7019, 0.5059,\n",
       "        0.5744])"
      ]
     },
     "execution_count": 22,
     "metadata": {},
     "output_type": "execute_result"
    }
   ],
   "source": [
    "import torch\n",
    "torch.rand((10,), dtype=torch.float32)"
   ]
  }
 ],
 "metadata": {
  "kernelspec": {
   "display_name": "env_isaaclab",
   "language": "python",
   "name": "python3"
  },
  "language_info": {
   "codemirror_mode": {
    "name": "ipython",
    "version": 3
   },
   "file_extension": ".py",
   "mimetype": "text/x-python",
   "name": "python",
   "nbconvert_exporter": "python",
   "pygments_lexer": "ipython3",
   "version": "3.10.12"
  }
 },
 "nbformat": 4,
 "nbformat_minor": 5
}
